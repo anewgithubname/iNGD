{
 "cells": [
  {
   "cell_type": "code",
   "execution_count": 1,
   "metadata": {},
   "outputs": [
    {
     "name": "stdout",
     "output_type": "stream",
     "text": [
      "tensor(-0.0446, grad_fn=<NegBackward0>)\n"
     ]
    }
   ],
   "source": [
    "import torch\n",
    "from matplotlib import pyplot as plt\n",
    "import sys \n",
    "sys.path.insert(1, './src')\n",
    "from util import MMD, median_distance\n",
    "\n",
    "torch.manual_seed(987)\n",
    "# device = 'cpu'\n",
    "device = torch.device('cuda' if torch.cuda.is_available() else 'cpu')\n",
    "\n",
    "from cometitors import run_rkl_wgf\n",
    "from cometitors import run_mmdgf"
   ]
  },
  {
   "cell_type": "code",
   "execution_count": 2,
   "metadata": {},
   "outputs": [
    {
     "name": "stdout",
     "output_type": "stream",
     "text": [
      "tensor([-0.9876, -1.0036], grad_fn=<MeanBackward1>)\n",
      "torch.Size([200, 200, 2, 2])\n",
      "tensor([-0.9844], grad_fn=<MeanBackward1>)\n",
      "Data 2 dimension\n"
     ]
    },
    {
     "name": "stderr",
     "output_type": "stream",
     "text": [
      "c:\\Users\\ROG\\Dropbox\\repos\\iNGD\\src\\tsm.py:44: UserWarning: The use of `x.T` on tensors of dimension other than 2 to reverse their shape is deprecated and it will throw an error in a future release. Consider `x.mT` to transpose batches of matrices or `x.permute(*torch.arange(x.ndim - 1, -1, -1))` to reverse the dimensions of a tensor. (Triggered internally at C:\\cb\\pytorch_1000000000000\\work\\aten\\src\\ATen\\native\\TensorShape.cpp:3687.)\n",
      "  invKK_nabla_L = torch.linalg.solve(KK, nabla_L.T)\n"
     ]
    }
   ],
   "source": [
    "from torch.distributions import MultivariateNormal as MVN\n",
    "from run_tsm import run_ntkNGD\n",
    "\n",
    "d = 2\n",
    "print(f\"Data {d} dimension\")\n",
    "\n",
    "Sigma = torch.eye(d, device=device) * 0.25\n",
    "def gendata(n = 100):\n",
    "    x = MVN(torch.ones(d, device=device) * 2, Sigma).sample((n,))\n",
    "    \n",
    "    return x[:n, :]\n",
    "    "
   ]
  },
  {
   "cell_type": "code",
   "execution_count": 3,
   "metadata": {},
   "outputs": [
    {
     "data": {
      "image/png": "[encoded data removed]",
      "text/plain": [
       "<Figure size 640x480 with 1 Axes>"
      ]
     },
     "metadata": {},
     "output_type": "display_data"
    },
    {
     "name": "stderr",
     "output_type": "stream",
     "text": [
      "100%|██████████| 100/100 [00:54<00:00,  1.84it/s]\n"
     ]
    }
   ],
   "source": [
    "from matplotlib import pyplot as plt\n",
    "from IPython.display import clear_output\n",
    "x1 = gendata() \n",
    "x0 = torch.randn_like(x1)\n",
    "    \n",
    "def callback(x1, xt):\n",
    "    clear_output(wait=True)\n",
    "    plt.scatter(x1[:, 0].cpu(), x1[:, 1].cpu(), c='b', s=10, label='Y')\n",
    "    plt.scatter(xt[:, 0].cpu(), xt[:, 1].cpu(), c='r', s=10, label='Xt')\n",
    "    plt.legend()\n",
    "    plt.xlim(-5, 5); plt.ylim(-5, 5)\n",
    "    plt.show()\n",
    "    return None\n",
    "\n",
    "xt, xt_traj = run_ntkNGD(x1, x0.clone(), None, 1e-1, None, 100, 'ntkNGD', kern ='rbf', callback = callback)\n"
   ]
  }
 ],
 "metadata": {
  "kernelspec": {
   "display_name": "base",
   "language": "python",
   "name": "python3"
  },
  "language_info": {
   "codemirror_mode": {
    "name": "ipython",
    "version": 3
   },
   "file_extension": ".py",
   "mimetype": "text/x-python",
   "name": "python",
   "nbconvert_exporter": "python",
   "pygments_lexer": "ipython3",
   "version": "3.12.9"
  }
 },
 "nbformat": 4,
 "nbformat_minor": 4
}
